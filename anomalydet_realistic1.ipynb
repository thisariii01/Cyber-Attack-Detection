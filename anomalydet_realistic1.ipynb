{
 "cells": [
  {
   "cell_type": "code",
   "execution_count": 74,
   "id": "ccf0e1d2",
   "metadata": {},
   "outputs": [],
   "source": [
    "from datetime import datetime, timedelta\n",
    "import time\n",
    "import random\n",
    "import matplotlib.pyplot as plt\n",
    "import numpy as np\n",
    "import logging\n",
    "import os"
   ]
  },
  {
   "cell_type": "code",
   "execution_count": null,
   "id": "43bbc20d",
   "metadata": {},
   "outputs": [],
   "source": [
    "# Global state\n",
    "failed_logins = {}\n",
    "toggle_events = {}\n",
    "power_history = []\n",
    "session_creations = {}\n",
    "device_access_log = {}\n",
    "flagged_users = set()\n",
    "flagged_ips = set()\n",
    "session_activity = {}\n",
    "event_counts = {'login_attempt': {}, 'toggle_device': {}, 'power_reading': {}, 'session_start': {}, 'session_end': {}}\n",
    "login_locations = {}  # Tracks login info: (user_id, ip, timestamp, country)\n",
    "session_durations = {}  # Tracks session info: {session_id: {start, end, last_active, type}}"
   ]
  },
  {
   "cell_type": "code",
   "execution_count": null,
   "id": "cb62ccc0",
   "metadata": {},
   "outputs": [],
   "source": [
    "# Simulated IP-to-country mapping\n",
    "ip_to_country = {\n",
    "    '192.168.1.1': 'US', '192.168.1.10': 'US', '192.168.2.2': 'US', \n",
    "    '192.168.5.1': 'US', '192.168.5.2': 'US', '192.168.5.3': 'US', \n",
    "    '192.168.5.4': 'US', '192.168.6.1': 'US', '192.168.13.69': 'US', \n",
    "    '123.225.115.42': 'US', '22.15.1.3': 'US',\n",
    "    '203.0.113.1': 'UK', '203.0.113.55': 'UK', '155.23.65.1': 'UK',\n",
    "    '172.16.1.1': 'CN', '192.122.36.1': 'CN', '192.111.23.6': 'CN'\n",
    "}\n",
    "\n",
    "# Simulated travel times (hours) between countries\n",
    "travel_times = {('US', 'UK'): 7, ('US', 'CN'): 14, ('UK', 'CN'): 10}"
   ]
  },
  {
   "cell_type": "code",
   "execution_count": null,
   "id": "1eed3844",
   "metadata": {},
   "outputs": [],
   "source": [
    "detection_counter = 1"
   ]
  },
  {
   "cell_type": "code",
   "execution_count": null,
   "id": "02252a61",
   "metadata": {},
   "outputs": [],
   "source": [
    "def log_anomaly(user_id, source_id, message):\n",
    "    global detection_counter\n",
    "    now = datetime.now()\n",
    "    timestamp_str = now.strftime('%Y-%m-%d, %H:%M:%S')\n",
    "    log_line = f\"{detection_counter}, {timestamp_str}, {user_id}, {source_id}, {message}\\n\"\n",
    "\n",
    "    # Write to file\n",
    "    with open(\"security_logs.txt\", \"a\") as f:\n",
    "        f.write(log_line)\n",
    "\n",
    "    detection_counter += 1  # Increment for next use\n",
    "\n",
    "\n",
    "if not os.path.exists(\"anomaly_logs.txt\"):\n",
    "    with open(\"anomaly_logs.txt\", \"w\") as f:\n",
    "        f.write(\"Detection, Date, Time, User, Source, Message\\n\")"
   ]
  },
  {
   "cell_type": "code",
   "execution_count": 77,
   "id": "4c1ee826",
   "metadata": {},
   "outputs": [],
   "source": [
    "def is_business_hours(timestamp):\n",
    "    return 9 <= timestamp.hour <= 17"
   ]
  },
  {
   "cell_type": "code",
   "execution_count": null,
   "id": "d8158adc",
   "metadata": {},
   "outputs": [],
   "source": [
    "def instrument(event_name, user_role, user_id, source_id, timestamp, context):\n",
    "    print(f'Event: {event_name}, Role: {user_role}, User: {user_id}, Time: {timestamp}')\n",
    "\n",
    "    # Update event counts for visualisation\n",
    "    event_counts[event_name].setdefault(user_id, 0)\n",
    "    event_counts[event_name][user_id] += 1\n",
    "\n",
    "    # Update last active timestamp for session\n",
    "    session_id = context.get('session_id')\n",
    "    if session_id and session_id in session_durations:\n",
    "        session_durations[session_id]['last_active'] = timestamp\n",
    "\n",
    "    # Check for previously flagged user or IP\n",
    "    if user_id in flagged_users or source_id in flagged_ips:\n",
    "        alert_msg = f'Activity from previously flagged source: {user_id} / {source_id}'\n",
    "        print(f\"ALERT: {alert_msg}\")\n",
    "        log_anomaly(user_id, source_id, alert_msg)\n",
    "\n",
    "    # Failed login detection\n",
    "    if event_name == 'login_attempt':\n",
    "        success = context.get('success', True)\n",
    "        if not success:\n",
    "            failed_logins.setdefault(user_id, []).append(timestamp)\n",
    "            recent = [t for t in failed_logins[user_id] if (timestamp - t).total_seconds() <= 60]\n",
    "            failed_logins[user_id] = recent\n",
    "            if len(recent) > 5:\n",
    "                flagged_users.add(user_id)\n",
    "                flagged_ips.add(source_id)\n",
    "                alert_msg = f'Too many failed login attempts for {user_id}'\n",
    "                print(f\"ALERT: {alert_msg}\")\n",
    "                log_anomaly(user_id, source_id, alert_msg)\n",
    "                \n",
    "        # Unusual login location detection\n",
    "        country = ip_to_country.get(source_id, 'UNKNOWN')\n",
    "        login_locations.setdefault(user_id, []).append((source_id, timestamp, country))\n",
    "        recent_locations = [(ip, t, c) for ip, t, c in login_locations[user_id] if (timestamp - t).total_seconds() <= 300]\n",
    "        login_locations[user_id] = recent_locations\n",
    "        countries = set(c for _, _, c in recent_locations)\n",
    "\n",
    "        if len(countries) > 2:\n",
    "            # Check travel time feasibility\n",
    "            for i, (_, t1, c1) in enumerate(recent_locations):\n",
    "                for _, t2, c2 in recent_locations[i+1:]:\n",
    "                    if c1 != c2:\n",
    "                        hours = (t2 - t1).total_seconds() / 3600\n",
    "                        min_travel = travel_times.get((min(c1, c2), max(c1, c2)), 5)\n",
    "                        if hours < min_travel:\n",
    "                            alert_msg = f'Unrealistic login locations for {user_id}: {c1} to {c2} in {hours:.2f} hours'\n",
    "                            print(f\"ALERT: {alert_msg}\")\n",
    "                            log_anomaly(user_id, source_id, alert_msg)\n",
    "                            flagged_users.add(user_id)\n",
    "                            flagged_ips.update(ip for ip, _, _ in recent_locations)\n",
    "                            break\n",
    "\n",
    "    # Toggle spam and device overload detection\n",
    "    if event_name == 'toggle_device':\n",
    "        toggle_events.setdefault(user_id, []).append(timestamp)\n",
    "        recent = [t for t in toggle_events[user_id] if (timestamp - t).total_seconds() <= 30]\n",
    "        toggle_events[user_id] = recent\n",
    "        device_id = context.get('device_id', 'unknown')\n",
    "        device_type = context.get('device_type', 'non-critical')\n",
    "        toggle_state = context.get('state', 'on')\n",
    "        device_access_log.setdefault(device_id, []).append((user_id, timestamp, toggle_state))\n",
    "        if len(recent) > 10:\n",
    "            if user_role not in ('ADMIN', 'MANAGER') or not is_business_hours(timestamp):\n",
    "                alert_msg = f'Device toggled too frequently by {user_id}'\n",
    "                print(f\"ALERT: {alert_msg}\")\n",
    "                log_anomaly(user_id, source_id, alert_msg)\n",
    "                flagged_users.add(user_id)\n",
    "                flagged_ips.add(source_id)\n",
    "\n",
    "        # Device overload detection\n",
    "        recent_access = [(u, t, s) for u, t, s in device_access_log[device_id] if (timestamp - t).total_seconds() <= 10]\n",
    "        device_access_log[device_id] = recent_access\n",
    "        unique_users = set(u for u, _, _ in recent_access)\n",
    "        threshold = 2 if device_type == 'critical' else 4\n",
    "        if len(unique_users) > threshold:\n",
    "            alert_msg = f'Device overload on {device_id} ({device_type}) by users: {unique_users}'\n",
    "            print(f\"ALERT: {alert_msg}\")\n",
    "            log_anomaly(user_id, source_id, alert_msg)\n",
    "            flagged_users.update(unique_users)\n",
    "\n",
    "        # Conflicting toggle state detection\n",
    "        states = [s for _, _, s in recent_access]\n",
    "        if len(states) >= 5 and states[-1] != states[-2]:\n",
    "            alert_msg = f'Conflicting toggle states on {device_id}: {states[-2]} to {states[-1]}'\n",
    "            print(f\"ALERT: {alert_msg}\")\n",
    "            log_anomaly(user_id, source_id, alert_msg)\n",
    "            flagged_users.update(unique_users)\n",
    "\n",
    "    # Power anomaly detection\n",
    "    if event_name == 'power_reading':\n",
    "        value = context.get('value', 0)\n",
    "        power_history.append((timestamp, value))\n",
    "\n",
    "        if len(power_history) > 20:\n",
    "            power_history.pop(0)\n",
    "        avg = sum(v for _, v in power_history) / len(power_history)\n",
    "\n",
    "        if value <= 0:\n",
    "            alert_msg = f'Invalid power reading ({value}) from {source_id}'\n",
    "            print(f\"ALERT: {alert_msg}\")\n",
    "            log_anomaly(user_id, source_id, alert_msg)\n",
    "            flagged_users.add(user_id)\n",
    "            flagged_ips.add(source_id)\n",
    "\n",
    "        elif value > 1.5 * avg:\n",
    "            if user_role not in ('ADMIN', 'MANAGER') or not is_business_hours(timestamp):\n",
    "                alert_msg = f'Power spike ({value}) exceeds 150% of avg ({avg:.2f})'\n",
    "                print(f\"ALERT: {alert_msg}\")\n",
    "                log_anomaly(user_id, source_id, alert_msg)\n",
    "                flagged_users.add(user_id)\n",
    "                flagged_ips.add(source_id)\n",
    "\n",
    "    # Session hijacking and duration detection\n",
    "    if event_name == 'session_start':\n",
    "        session_id = context.get('session_id')\n",
    "        ip = source_id\n",
    "        session_type = context.get('session_type', 'interactive')\n",
    "        if not session_id:\n",
    "            return\n",
    "        session_creations.setdefault(session_id, []).append((user_id, timestamp))\n",
    "        session_activity.setdefault(session_id, []).append((ip, timestamp))\n",
    "        session_durations[session_id] = {'start': timestamp, 'end': None, 'last_active': timestamp, 'type': session_type}\n",
    "        recent = [(ip_old, ts_old) for ip_old, ts_old in session_activity[session_id] if (timestamp - ts_old).total_seconds() <= 60]\n",
    "        session_activity[session_id] = recent\n",
    "        unique_ips = set(ip_old for ip_old, _ in recent)\n",
    "        if len(unique_ips) > 1:\n",
    "            alert_msg = f'Session hijacking suspected for session \\'{session_id}\\' used from multiple IPs: {unique_ips}'\n",
    "            print(f\"ALERT: {alert_msg}\")\n",
    "            log_anomaly(user_id, source_id, alert_msg)\n",
    "\n",
    "    if event_name == 'session_end':\n",
    "        session_id = context.get('session_id')\n",
    "        if not session_id or session_id not in session_durations:\n",
    "            return\n",
    "        session_durations[session_id]['end'] = timestamp\n",
    "        duration = (timestamp - session_durations[session_id]['start']).total_seconds() / 3600\n",
    "        idle_time = (timestamp - session_durations[session_id]['last_active']).total_seconds() / 3600\n",
    "        threshold = 24 if session_durations[session_id]['type'] == 'interactive' else 48\n",
    "        if duration > threshold and idle_time > 12:\n",
    "            alert_msg = f'Excessive idle session duration for {session_id}({session_durations[session_id]}): {duration:.2f} hours, idle for {idle_time:.2f} hours'\n",
    "            print(f\"ALERT: {alert_msg}\")\n",
    "            log_anomaly(user_id, source_id, alert_msg)\n",
    "            flagged_users.add(user_id)\n",
    "            flagged_ips.add(source_id)"
   ]
  },
  {
   "cell_type": "code",
   "execution_count": null,
   "id": "c6352289",
   "metadata": {},
   "outputs": [],
   "source": [
    "def visualise_data():\n",
    "    # Event frequency plot\n",
    "    plt.figure(figsize=(10, 6))\n",
    "    users = set().union(*[set(counts.keys()) for counts in event_counts.values()])\n",
    "    x = np.arange(len(users))\n",
    "    width = 0.2\n",
    "    \n",
    "    for i, event in enumerate(event_counts):\n",
    "        counts = [event_counts[event].get(user, 0) for user in users]\n",
    "        plt.bar(x + i * width, counts, width, label=event)\n",
    "    \n",
    "    plt.xlabel('Users')\n",
    "    plt.ylabel('Event Count')\n",
    "    plt.title('Event Frequency by User')\n",
    "    plt.xticks(x + width * 2, users, rotation=45)\n",
    "    plt.legend()\n",
    "    plt.tight_layout()\n",
    "    plt.savefig('event_frequency.png')\n",
    "    plt.close()\n",
    "\n",
    "    # Power readings plot\n",
    "    if power_history:\n",
    "        timestamps, values = zip(*power_history)\n",
    "        plt.figure(figsize=(10, 6))\n",
    "        plt.plot(timestamps, values, 'b-', label='Power Readings')\n",
    "        avg = sum(values) / len(values)\n",
    "        plt.axhline(y=avg, color='r', linestyle='--', label=f'Average ({avg:.2f})')\n",
    "        plt.xlabel('Time')\n",
    "        plt.ylabel('Power Value')\n",
    "        plt.title('Power Readings Over Time')\n",
    "        plt.legend()\n",
    "        plt.grid(True)\n",
    "        plt.xticks(rotation=45)\n",
    "        plt.tight_layout()\n",
    "        plt.savefig('power_readings.png')\n",
    "        plt.close()\n",
    "\n",
    "    # Session duration plot\n",
    "    if session_durations:\n",
    "        durations = []\n",
    "        session_ids = []\n",
    "        \n",
    "        for sid, times in session_durations.items():\n",
    "            if times['end']:\n",
    "                duration = (times['end'] - times['start']).total_seconds() / 3600\n",
    "                durations.append(duration)\n",
    "                session_ids.append(sid)\n",
    "        \n",
    "        if durations:\n",
    "            plt.figure(figsize=(10, 6))\n",
    "            plt.bar(session_ids, durations, color='green')\n",
    "            plt.axhline(y=24, color='r', linestyle='--', label='24-hour interactive threshold')\n",
    "            plt.axhline(y=48, color='b', linestyle='--', label='48-hour background threshold')\n",
    "            plt.xlabel('Session ID')\n",
    "            plt.ylabel('Duration (hours)')\n",
    "            plt.title('Session Durations')\n",
    "            plt.legend()\n",
    "            plt.xticks(rotation=45)\n",
    "            plt.tight_layout()\n",
    "            plt.savefig('session_durations.png')\n",
    "            plt.close()"
   ]
  },
  {
   "cell_type": "markdown",
   "id": "47a6236a",
   "metadata": {},
   "source": [
    "# Normal User Simulation"
   ]
  },
  {
   "cell_type": "code",
   "execution_count": 80,
   "id": "8c3dd5d3",
   "metadata": {},
   "outputs": [
    {
     "name": "stdout",
     "output_type": "stream",
     "text": [
      "Event: login_attempt, Role: USER, User: normal_user, Time: 2025-05-31 17:08:51.296643\n",
      "Event: toggle_device, Role: USER, User: normal_user, Time: 2025-05-31 17:08:51.996071\n",
      "Event: power_reading, Role: USER, User: normal_user, Time: 2025-05-31 17:08:53.434284\n",
      "Event: session_start, Role: USER, User: normal_user, Time: 2025-05-31 17:08:54.300706\n",
      "Event: session_end, Role: USER, User: normal_user, Time: 2025-05-31 17:08:55.585204\n"
     ]
    }
   ],
   "source": [
    "def sim_normal_use(user_id, user_ip, timestamp=None):\n",
    "    if timestamp is None:\n",
    "        timestamp = datetime.now()\n",
    "    instrument('login_attempt', 'USER', user_id, user_ip, timestamp, {'success': True})\n",
    "    time.sleep(random.uniform(0.5, 2.0))\n",
    "    instrument('toggle_device', 'USER', user_id, user_ip, datetime.now(), {'device_id': 'device_1', 'device_type': 'non-critical', 'state': 'on'})\n",
    "    time.sleep(random.uniform(0.5, 2.0))\n",
    "    instrument('power_reading', 'USER', user_id, user_ip, datetime.now(), {'value': 1000})\n",
    "    time.sleep(random.uniform(0.5, 2.0))\n",
    "    instrument('session_start', 'USER', user_id, user_ip, datetime.now(), {'session_id': 'normal_session', 'session_type': 'interactive'})\n",
    "    time.sleep(random.uniform(0.5, 2.0))\n",
    "    instrument('session_end', 'USER', user_id, user_ip, datetime.now(), {'session_id': 'normal_session'})\n",
    "\n",
    "sim_normal_use('normal_user', '123.225.115.42')"
   ]
  },
  {
   "cell_type": "markdown",
   "id": "d25cccd1",
   "metadata": {},
   "source": [
    "# Failed Login Simulator"
   ]
  },
  {
   "cell_type": "code",
   "execution_count": 81,
   "id": "757d4176",
   "metadata": {},
   "outputs": [
    {
     "name": "stdout",
     "output_type": "stream",
     "text": [
      "Event: login_attempt, Role: USER, User: malicious, Time: 2025-05-31 17:08:55.603663\n",
      "Event: login_attempt, Role: USER, User: malicious, Time: 2025-05-31 17:08:57.573380\n",
      "Event: login_attempt, Role: USER, User: malicious, Time: 2025-05-31 17:08:58.911744\n",
      "Event: login_attempt, Role: USER, User: malicious, Time: 2025-05-31 17:08:59.491493\n",
      "Event: login_attempt, Role: USER, User: malicious, Time: 2025-05-31 17:09:00.943480\n",
      "Event: login_attempt, Role: USER, User: malicious, Time: 2025-05-31 17:09:02.092104\n",
      "ALERT: Too many failed login attempts for malicious\n"
     ]
    }
   ],
   "source": [
    "def sim_failed_login(user_id, user_ip, count=6):\n",
    "    for _ in range(count):\n",
    "        instrument('login_attempt', 'USER', user_id, user_ip, datetime.now(), {'success': False})\n",
    "        time.sleep(random.uniform(0.5, 2.0))\n",
    "\n",
    "sim_failed_login('malicious', '192.122.36.1', count=6)"
   ]
  },
  {
   "cell_type": "code",
   "execution_count": null,
   "id": "a54df8e5",
   "metadata": {},
   "outputs": [
    {
     "name": "stdout",
     "output_type": "stream",
     "text": [
      "Event: toggle_device, Role: USER, User: spammer, Time: 2025-05-31 17:09:03.955249\n",
      "Event: toggle_device, Role: USER, User: spammer, Time: 2025-05-31 17:09:05.561186\n",
      "Event: toggle_device, Role: USER, User: spammer, Time: 2025-05-31 17:09:06.926867\n",
      "Event: toggle_device, Role: USER, User: spammer, Time: 2025-05-31 17:09:08.607989\n",
      "Event: toggle_device, Role: USER, User: spammer, Time: 2025-05-31 17:09:09.977817\n",
      "ALERT: Conflicting toggle states on device_2: off to on\n",
      "Event: toggle_device, Role: USER, User: spammer, Time: 2025-05-31 17:09:11.728155\n",
      "ALERT: Activity from previously flagged source: spammer / 192.111.23.6\n",
      "ALERT: Conflicting toggle states on device_2: on to off\n",
      "Event: toggle_device, Role: USER, User: spammer, Time: 2025-05-31 17:09:13.398266\n",
      "ALERT: Activity from previously flagged source: spammer / 192.111.23.6\n",
      "ALERT: Conflicting toggle states on device_2: off to on\n",
      "Event: toggle_device, Role: USER, User: spammer, Time: 2025-05-31 17:09:14.580151\n",
      "ALERT: Activity from previously flagged source: spammer / 192.111.23.6\n",
      "ALERT: Conflicting toggle states on device_2: on to off\n",
      "Event: toggle_device, Role: USER, User: spammer, Time: 2025-05-31 17:09:15.607923\n",
      "ALERT: Activity from previously flagged source: spammer / 192.111.23.6\n",
      "ALERT: Conflicting toggle states on device_2: off to on\n",
      "Event: toggle_device, Role: USER, User: spammer, Time: 2025-05-31 17:09:17.122109\n",
      "ALERT: Activity from previously flagged source: spammer / 192.111.23.6\n",
      "ALERT: Conflicting toggle states on device_2: on to off\n",
      "Event: toggle_device, Role: USER, User: spammer, Time: 2025-05-31 17:09:18.858169\n",
      "ALERT: Activity from previously flagged source: spammer / 192.111.23.6\n",
      "ALERT: Device toggled too frequently by spammer\n",
      "ALERT: Conflicting toggle states on device_2: off to on\n"
     ]
    }
   ],
   "source": [
    "def sim_toggle_spam(user_id, role, user_ip, count=11):\n",
    "    states = ['on', 'off']\n",
    "    for i in range(count):\n",
    "        instrument('toggle_device', role, user_id, user_ip, datetime.now(), {'device_id': 'device_2', 'device_type': 'non-critical', 'state': states[i % 2]})\n",
    "        time.sleep(random.uniform(0.5, 2.0))\n",
    "\n",
    "sim_toggle_spam('spammer', 'USER', '192.111.23.6', count=11)"
   ]
  },
  {
   "cell_type": "code",
   "execution_count": 83,
   "id": "d7943931",
   "metadata": {},
   "outputs": [
    {
     "name": "stdout",
     "output_type": "stream",
     "text": [
      "Event: power_reading, Role: USER, User: spiker, Time: 2025-05-31 17:09:19.781609\n",
      "Event: power_reading, Role: USER, User: spiker, Time: 2025-05-31 17:09:20.748519\n",
      "Event: power_reading, Role: USER, User: spiker, Time: 2025-05-31 17:09:21.381230\n",
      "Event: power_reading, Role: USER, User: spiker, Time: 2025-05-31 17:09:23.012151\n",
      "Event: power_reading, Role: USER, User: spiker, Time: 2025-05-31 17:09:24.868855\n",
      "Event: power_reading, Role: USER, User: spiker, Time: 2025-05-31 17:09:26.721246\n",
      "Event: power_reading, Role: USER, User: spiker, Time: 2025-05-31 17:09:28.033678\n",
      "ALERT: Power spike (2500) exceeds 150% of avg (1187.50)\n"
     ]
    }
   ],
   "source": [
    "def sim_power_spike(user_id, user_ip, base=1000, spike=2000):\n",
    "    for _ in range(6):\n",
    "        instrument('power_reading', 'USER', user_id, user_ip, datetime.now(), {'value': base})\n",
    "        time.sleep(random.uniform(0.5, 2.0))\n",
    "    instrument('power_reading', 'USER', user_id, user_ip, datetime.now(), {'value': spike})\n",
    "\n",
    "sim_power_spike('spiker', '192.168.2.2', base=1000, spike=2500)"
   ]
  },
  {
   "cell_type": "code",
   "execution_count": 84,
   "id": "cd419d58",
   "metadata": {},
   "outputs": [
    {
     "name": "stdout",
     "output_type": "stream",
     "text": [
      "Event: toggle_device, Role: ADMIN, User: admin_real, Time: 2025-05-31 14:00:00.054422\n",
      "Event: toggle_device, Role: ADMIN, User: admin_real, Time: 2025-05-31 14:00:00.054422\n",
      "Event: toggle_device, Role: ADMIN, User: admin_real, Time: 2025-05-31 14:00:00.054422\n",
      "Event: toggle_device, Role: ADMIN, User: admin_real, Time: 2025-05-31 14:00:00.054422\n",
      "Event: toggle_device, Role: ADMIN, User: admin_real, Time: 2025-05-31 14:00:00.054422\n",
      "ALERT: Conflicting toggle states on device_3: off to on\n",
      "Event: toggle_device, Role: ADMIN, User: admin_real, Time: 2025-05-31 14:00:00.054422\n",
      "ALERT: Activity from previously flagged source: admin_real / 22.15.1.3\n",
      "ALERT: Conflicting toggle states on device_3: on to off\n",
      "Event: toggle_device, Role: ADMIN, User: admin_real, Time: 2025-05-31 14:00:00.054422\n",
      "ALERT: Activity from previously flagged source: admin_real / 22.15.1.3\n",
      "ALERT: Conflicting toggle states on device_3: off to on\n",
      "Event: toggle_device, Role: ADMIN, User: admin_real, Time: 2025-05-31 14:00:00.054422\n",
      "ALERT: Activity from previously flagged source: admin_real / 22.15.1.3\n",
      "ALERT: Conflicting toggle states on device_3: on to off\n",
      "Event: toggle_device, Role: ADMIN, User: admin_real, Time: 2025-05-31 14:00:00.054422\n",
      "ALERT: Activity from previously flagged source: admin_real / 22.15.1.3\n",
      "ALERT: Conflicting toggle states on device_3: off to on\n",
      "Event: toggle_device, Role: ADMIN, User: admin_real, Time: 2025-05-31 14:00:00.054422\n",
      "ALERT: Activity from previously flagged source: admin_real / 22.15.1.3\n",
      "ALERT: Conflicting toggle states on device_3: on to off\n",
      "Event: toggle_device, Role: ADMIN, User: admin_real, Time: 2025-05-31 14:00:00.054422\n",
      "ALERT: Activity from previously flagged source: admin_real / 22.15.1.3\n",
      "ALERT: Conflicting toggle states on device_3: off to on\n",
      "Event: power_reading, Role: MANAGER, User: admin_real, Time: 2025-05-31 14:00:00.054422\n",
      "ALERT: Activity from previously flagged source: admin_real / 22.15.1.3\n",
      "Event: toggle_device, Role: ADMIN, User: admin_malicious, Time: 2025-05-31 22:00:00.904242\n",
      "Event: toggle_device, Role: ADMIN, User: admin_malicious, Time: 2025-05-31 22:00:00.904242\n",
      "Event: toggle_device, Role: ADMIN, User: admin_malicious, Time: 2025-05-31 22:00:00.904242\n",
      "Event: toggle_device, Role: ADMIN, User: admin_malicious, Time: 2025-05-31 22:00:00.904242\n",
      "Event: toggle_device, Role: ADMIN, User: admin_malicious, Time: 2025-05-31 22:00:00.904242\n",
      "ALERT: Conflicting toggle states on device_3: off to on\n",
      "Event: toggle_device, Role: ADMIN, User: admin_malicious, Time: 2025-05-31 22:00:00.904242\n",
      "ALERT: Activity from previously flagged source: admin_malicious / 155.23.65.1\n",
      "ALERT: Conflicting toggle states on device_3: on to off\n",
      "Event: toggle_device, Role: ADMIN, User: admin_malicious, Time: 2025-05-31 22:00:00.904242\n",
      "ALERT: Activity from previously flagged source: admin_malicious / 155.23.65.1\n",
      "ALERT: Conflicting toggle states on device_3: off to on\n",
      "Event: toggle_device, Role: ADMIN, User: admin_malicious, Time: 2025-05-31 22:00:00.904242\n",
      "ALERT: Activity from previously flagged source: admin_malicious / 155.23.65.1\n",
      "ALERT: Conflicting toggle states on device_3: on to off\n",
      "Event: toggle_device, Role: ADMIN, User: admin_malicious, Time: 2025-05-31 22:00:00.904242\n",
      "ALERT: Activity from previously flagged source: admin_malicious / 155.23.65.1\n",
      "ALERT: Conflicting toggle states on device_3: off to on\n",
      "Event: toggle_device, Role: ADMIN, User: admin_malicious, Time: 2025-05-31 22:00:00.904242\n",
      "ALERT: Activity from previously flagged source: admin_malicious / 155.23.65.1\n",
      "ALERT: Conflicting toggle states on device_3: on to off\n",
      "Event: toggle_device, Role: ADMIN, User: admin_malicious, Time: 2025-05-31 22:00:00.904242\n",
      "ALERT: Activity from previously flagged source: admin_malicious / 155.23.65.1\n",
      "ALERT: Device toggled too frequently by admin_malicious\n",
      "ALERT: Conflicting toggle states on device_3: off to on\n",
      "Event: power_reading, Role: MANAGER, User: admin_malicious, Time: 2025-05-31 22:00:00.904242\n",
      "ALERT: Activity from previously flagged source: admin_malicious / 155.23.65.1\n",
      "ALERT: Power spike (3000) exceeds 150% of avg (1550.00)\n"
     ]
    }
   ],
   "source": [
    "def sim_admin_behavior(admin_id, admin_ip, hour=10):\n",
    "    ts = datetime.now().replace(hour=hour, minute=0, second=0)\n",
    "    states = ['on', 'off']\n",
    "    for i in range(11):\n",
    "        instrument('toggle_device', 'ADMIN', admin_id, admin_ip, ts, {'device_id': 'device_3', 'device_type': 'critical', 'state': states[i % 2]})\n",
    "        time.sleep(random.uniform(0.5, 2.0))\n",
    "    instrument('power_reading', 'MANAGER', admin_id, admin_ip, ts, {'value': 3000})\n",
    "\n",
    "sim_admin_behavior('admin_real', '22.15.1.3', hour=14)\n",
    "sim_admin_behavior('admin_malicious', '155.23.65.1', hour=22)"
   ]
  },
  {
   "cell_type": "code",
   "execution_count": 85,
   "id": "b6708ff3",
   "metadata": {},
   "outputs": [
    {
     "name": "stdout",
     "output_type": "stream",
     "text": [
      "Event: login_attempt, Role: USER, User: flagged_user, Time: 2025-05-31 17:09:55.188769\n",
      "Event: login_attempt, Role: USER, User: flagged_user, Time: 2025-05-31 17:09:56.600254\n",
      "Event: login_attempt, Role: USER, User: flagged_user, Time: 2025-05-31 17:09:58.049720\n",
      "Event: login_attempt, Role: USER, User: flagged_user, Time: 2025-05-31 17:09:58.944161\n",
      "Event: login_attempt, Role: USER, User: flagged_user, Time: 2025-05-31 17:09:59.960779\n",
      "Event: login_attempt, Role: USER, User: flagged_user, Time: 2025-05-31 17:10:01.678104\n",
      "ALERT: Too many failed login attempts for flagged_user\n",
      "Event: login_attempt, Role: USER, User: flagged_user, Time: 2025-05-31 17:10:02.370432\n",
      "ALERT: Activity from previously flagged source: flagged_user / 192.168.13.69\n",
      "Event: toggle_device, Role: USER, User: flagged_user, Time: 2025-05-31 17:10:03.823005\n",
      "ALERT: Activity from previously flagged source: flagged_user / 192.168.13.69\n",
      "Event: power_reading, Role: USER, User: flagged_user, Time: 2025-05-31 17:10:05.084148\n",
      "ALERT: Activity from previously flagged source: flagged_user / 192.168.13.69\n"
     ]
    }
   ],
   "source": [
    "def sim_flagged_source(user_id, user_ip):\n",
    "    for _ in range(6):\n",
    "        instrument('login_attempt', 'USER', user_id, user_ip, datetime.now(), {'success': False})\n",
    "        time.sleep(random.uniform(0.5, 2.0))\n",
    "    instrument('login_attempt', 'USER', user_id, user_ip, datetime.now(), {'success': True})\n",
    "    time.sleep(random.uniform(0.5, 2.0))\n",
    "    instrument('toggle_device', 'USER', user_id, user_ip, datetime.now(), {'device_id': 'device_4', 'device_type': 'non-critical', 'state': 'on'})\n",
    "    time.sleep(random.uniform(0.5, 2.0))\n",
    "    instrument('power_reading', 'USER', user_id, user_ip, datetime.now(), {'value': 950})\n",
    "\n",
    "sim_flagged_source('flagged_user', '192.168.13.69')"
   ]
  },
  {
   "cell_type": "code",
   "execution_count": 86,
   "id": "bf84fa50",
   "metadata": {},
   "outputs": [
    {
     "name": "stdout",
     "output_type": "stream",
     "text": [
      "Event: session_start, Role: USER, User: user_hijack, Time: 2025-05-31 17:10:05.103153\n",
      "Event: session_start, Role: USER, User: user_hijack, Time: 2025-05-31 17:10:05.776167\n",
      "ALERT: Session hijacking suspected for session 'sesh_hijack' used from multiple IPs: {'203.0.113.55', '192.168.1.10'}\n",
      "Event: session_end, Role: USER, User: user_hijack, Time: 2025-05-31 17:10:07.774682\n"
     ]
    }
   ],
   "source": [
    "def sim_session_hijack(session_id):\n",
    "    instrument('session_start', 'USER', 'user_hijack', '192.168.1.10', datetime.now(), {'session_id': session_id, 'session_type': 'interactive'})\n",
    "    time.sleep(random.uniform(0.5, 2.0))\n",
    "    instrument('session_start', 'USER', 'user_hijack', '203.0.113.55', datetime.now(), {'session_id': session_id, 'session_type': 'interactive'})\n",
    "    time.sleep(random.uniform(0.5, 2.0))\n",
    "    instrument('session_end', 'USER', 'user_hijack', '203.0.113.55', datetime.now(), {'session_id': session_id})\n",
    "\n",
    "sim_session_hijack('sesh_hijack')"
   ]
  },
  {
   "cell_type": "code",
   "execution_count": 87,
   "id": "new_cell_location_anomaly",
   "metadata": {},
   "outputs": [
    {
     "name": "stdout",
     "output_type": "stream",
     "text": [
      "Event: login_attempt, Role: USER, User: geo_user, Time: 2025-05-31 17:10:07.792429\n",
      "Event: login_attempt, Role: USER, User: geo_user, Time: 2025-05-31 17:10:09.752558\n",
      "Event: login_attempt, Role: USER, User: geo_user, Time: 2025-05-31 17:10:11.408157\n",
      "ALERT: Unrealistic login locations for geo_user: US to UK in 0.00 hours\n",
      "ALERT: Unrealistic login locations for geo_user: UK to CN in 0.00 hours\n"
     ]
    }
   ],
   "source": [
    "def sim_location_anomaly(user_id, ip_list):\n",
    "    for ip in ip_list:\n",
    "        instrument('login_attempt', 'USER', user_id, ip, datetime.now(), {'success': True})\n",
    "        time.sleep(random.uniform(0.5, 2.0))\n",
    "\n",
    "sim_location_anomaly('geo_user', ['192.168.1.1', '203.0.113.1', '172.16.1.1'])"
   ]
  },
  {
   "cell_type": "code",
   "execution_count": 88,
   "id": "new_cell_device_overload",
   "metadata": {},
   "outputs": [
    {
     "name": "stdout",
     "output_type": "stream",
     "text": [
      "Event: toggle_device, Role: ADMIN, User: user1, Time: 2025-05-31 17:10:12.309714\n",
      "Event: toggle_device, Role: USER, User: user2, Time: 2025-05-31 17:10:13.764806\n",
      "Event: toggle_device, Role: USER, User: user3, Time: 2025-05-31 17:10:15.717407\n",
      "ALERT: Device overload on device_5 (critical) by users: {'user3', 'user1', 'user2'}\n",
      "Event: toggle_device, Role: USER, User: user4, Time: 2025-05-31 17:10:16.258872\n",
      "ALERT: Device overload on device_5 (critical) by users: {'user3', 'user1', 'user4', 'user2'}\n"
     ]
    }
   ],
   "source": [
    "def sim_device_overload(device_id, user_ip_pairs):\n",
    "    states = ['on', 'off']\n",
    "    for i, (user_id, ip) in enumerate(user_ip_pairs):\n",
    "        role = 'ADMIN' if user_id == 'user1' else 'USER'\n",
    "        instrument('toggle_device', role, user_id, ip, datetime.now(), {'device_id': device_id, 'device_type': 'critical', 'state': states[i % 2]})\n",
    "        time.sleep(random.uniform(0.5, 2.0))\n",
    "\n",
    "sim_device_overload('device_5', [('user1', '192.168.5.1'), ('user2', '192.168.5.2'), ('user3', '192.168.5.3'), ('user4', '192.168.5.4')])"
   ]
  },
  {
   "cell_type": "code",
   "execution_count": null,
   "id": "new_cell_long_session",
   "metadata": {},
   "outputs": [
    {
     "name": "stdout",
     "output_type": "stream",
     "text": [
      "Event: session_start, Role: USER, User: long_user, Time: 2025-05-30 16:10:17.079419\n",
      "Event: power_reading, Role: USER, User: long_user, Time: 2025-05-31 04:10:18.511136\n",
      "Event: session_end, Role: USER, User: long_user, Time: 2025-05-31 17:10:19.103323\n"
     ]
    }
   ],
   "source": [
    "def sim_long_session(user_id, user_ip, session_id):\n",
    "    start_time = datetime.now() - timedelta(hours=25)\n",
    "    instrument('session_start', 'USER', user_id, user_ip, start_time, {'session_id': session_id, 'session_type': 'interactive'})\n",
    "    time.sleep(random.uniform(0.5, 2.0))\n",
    "    \n",
    "    # Simulate activity 13 hours ago\n",
    "    active_time = datetime.now() - timedelta(hours=13)\n",
    "    instrument('power_reading', 'USER', user_id, user_ip, active_time, {'value': 1000, 'session_id': session_id})\n",
    "    time.sleep(random.uniform(0.5, 2.0))\n",
    "    instrument('session_end', 'USER', user_id, user_ip, datetime.now(), {'session_id': session_id})\n",
    "\n",
    "sim_long_session('long_user', '192.168.6.1', 'long_session')"
   ]
  },
  {
   "cell_type": "code",
   "execution_count": 90,
   "id": "abf4dbdd",
   "metadata": {},
   "outputs": [
    {
     "name": "stdout",
     "output_type": "stream",
     "text": [
      "Failed Logins: {'malicious': [datetime.datetime(2025, 5, 31, 17, 8, 55, 603663), datetime.datetime(2025, 5, 31, 17, 8, 57, 573380), datetime.datetime(2025, 5, 31, 17, 8, 58, 911744), datetime.datetime(2025, 5, 31, 17, 8, 59, 491493), datetime.datetime(2025, 5, 31, 17, 9, 0, 943480), datetime.datetime(2025, 5, 31, 17, 9, 2, 92104)], 'flagged_user': [datetime.datetime(2025, 5, 31, 17, 9, 55, 188769), datetime.datetime(2025, 5, 31, 17, 9, 56, 600254), datetime.datetime(2025, 5, 31, 17, 9, 58, 49720), datetime.datetime(2025, 5, 31, 17, 9, 58, 944161), datetime.datetime(2025, 5, 31, 17, 9, 59, 960779), datetime.datetime(2025, 5, 31, 17, 10, 1, 678104)]}\n",
      "Toggle Events: {'normal_user': [datetime.datetime(2025, 5, 31, 17, 8, 51, 996071)], 'spammer': [datetime.datetime(2025, 5, 31, 17, 9, 3, 955249), datetime.datetime(2025, 5, 31, 17, 9, 5, 561186), datetime.datetime(2025, 5, 31, 17, 9, 6, 926867), datetime.datetime(2025, 5, 31, 17, 9, 8, 607989), datetime.datetime(2025, 5, 31, 17, 9, 9, 977817), datetime.datetime(2025, 5, 31, 17, 9, 11, 728155), datetime.datetime(2025, 5, 31, 17, 9, 13, 398266), datetime.datetime(2025, 5, 31, 17, 9, 14, 580151), datetime.datetime(2025, 5, 31, 17, 9, 15, 607923), datetime.datetime(2025, 5, 31, 17, 9, 17, 122109), datetime.datetime(2025, 5, 31, 17, 9, 18, 858169)], 'admin_real': [datetime.datetime(2025, 5, 31, 14, 0, 0, 54422), datetime.datetime(2025, 5, 31, 14, 0, 0, 54422), datetime.datetime(2025, 5, 31, 14, 0, 0, 54422), datetime.datetime(2025, 5, 31, 14, 0, 0, 54422), datetime.datetime(2025, 5, 31, 14, 0, 0, 54422), datetime.datetime(2025, 5, 31, 14, 0, 0, 54422), datetime.datetime(2025, 5, 31, 14, 0, 0, 54422), datetime.datetime(2025, 5, 31, 14, 0, 0, 54422), datetime.datetime(2025, 5, 31, 14, 0, 0, 54422), datetime.datetime(2025, 5, 31, 14, 0, 0, 54422), datetime.datetime(2025, 5, 31, 14, 0, 0, 54422)], 'admin_malicious': [datetime.datetime(2025, 5, 31, 22, 0, 0, 904242), datetime.datetime(2025, 5, 31, 22, 0, 0, 904242), datetime.datetime(2025, 5, 31, 22, 0, 0, 904242), datetime.datetime(2025, 5, 31, 22, 0, 0, 904242), datetime.datetime(2025, 5, 31, 22, 0, 0, 904242), datetime.datetime(2025, 5, 31, 22, 0, 0, 904242), datetime.datetime(2025, 5, 31, 22, 0, 0, 904242), datetime.datetime(2025, 5, 31, 22, 0, 0, 904242), datetime.datetime(2025, 5, 31, 22, 0, 0, 904242), datetime.datetime(2025, 5, 31, 22, 0, 0, 904242), datetime.datetime(2025, 5, 31, 22, 0, 0, 904242)], 'flagged_user': [datetime.datetime(2025, 5, 31, 17, 10, 3, 823005)], 'user1': [datetime.datetime(2025, 5, 31, 17, 10, 12, 309714)], 'user2': [datetime.datetime(2025, 5, 31, 17, 10, 13, 764806)], 'user3': [datetime.datetime(2025, 5, 31, 17, 10, 15, 717407)], 'user4': [datetime.datetime(2025, 5, 31, 17, 10, 16, 258872)]}\n",
      "Power History: [1000, 1000, 1000, 1000, 1000, 1000, 1000, 2500, 3000, 3000, 950, 1000]\n",
      "Session Creations: {'normal_session': [('normal_user', datetime.datetime(2025, 5, 31, 17, 8, 54, 300706))], 'sesh_hijack': [('user_hijack', datetime.datetime(2025, 5, 31, 17, 10, 5, 103153)), ('user_hijack', datetime.datetime(2025, 5, 31, 17, 10, 5, 776167))], 'long_session': [('long_user', datetime.datetime(2025, 5, 30, 16, 10, 17, 79419))]}\n",
      "Device Access Log: {'device_1': [('normal_user', datetime.datetime(2025, 5, 31, 17, 8, 51, 996071), 'on')], 'device_2': [('spammer', datetime.datetime(2025, 5, 31, 17, 9, 9, 977817), 'on'), ('spammer', datetime.datetime(2025, 5, 31, 17, 9, 11, 728155), 'off'), ('spammer', datetime.datetime(2025, 5, 31, 17, 9, 13, 398266), 'on'), ('spammer', datetime.datetime(2025, 5, 31, 17, 9, 14, 580151), 'off'), ('spammer', datetime.datetime(2025, 5, 31, 17, 9, 15, 607923), 'on'), ('spammer', datetime.datetime(2025, 5, 31, 17, 9, 17, 122109), 'off'), ('spammer', datetime.datetime(2025, 5, 31, 17, 9, 18, 858169), 'on')], 'device_3': [('admin_malicious', datetime.datetime(2025, 5, 31, 22, 0, 0, 904242), 'on'), ('admin_malicious', datetime.datetime(2025, 5, 31, 22, 0, 0, 904242), 'off'), ('admin_malicious', datetime.datetime(2025, 5, 31, 22, 0, 0, 904242), 'on'), ('admin_malicious', datetime.datetime(2025, 5, 31, 22, 0, 0, 904242), 'off'), ('admin_malicious', datetime.datetime(2025, 5, 31, 22, 0, 0, 904242), 'on'), ('admin_malicious', datetime.datetime(2025, 5, 31, 22, 0, 0, 904242), 'off'), ('admin_malicious', datetime.datetime(2025, 5, 31, 22, 0, 0, 904242), 'on'), ('admin_malicious', datetime.datetime(2025, 5, 31, 22, 0, 0, 904242), 'off'), ('admin_malicious', datetime.datetime(2025, 5, 31, 22, 0, 0, 904242), 'on'), ('admin_malicious', datetime.datetime(2025, 5, 31, 22, 0, 0, 904242), 'off'), ('admin_malicious', datetime.datetime(2025, 5, 31, 22, 0, 0, 904242), 'on')], 'device_4': [('flagged_user', datetime.datetime(2025, 5, 31, 17, 10, 3, 823005), 'on')], 'device_5': [('user1', datetime.datetime(2025, 5, 31, 17, 10, 12, 309714), 'on'), ('user2', datetime.datetime(2025, 5, 31, 17, 10, 13, 764806), 'off'), ('user3', datetime.datetime(2025, 5, 31, 17, 10, 15, 717407), 'on'), ('user4', datetime.datetime(2025, 5, 31, 17, 10, 16, 258872), 'off')]}\n",
      "Flagged Users: {'malicious', 'admin_malicious', 'user1', 'flagged_user', 'user4', 'user2', 'spammer', 'spiker', 'admin_real', 'user3', 'geo_user'}\n",
      "Flagged IPs: {'203.0.113.1', '192.168.2.2', '192.168.13.69', '192.168.1.1', '192.122.36.1', '172.16.1.1', '155.23.65.1', '192.111.23.6'}\n",
      "Login Locations: {'normal_user': [('123.225.115.42', datetime.datetime(2025, 5, 31, 17, 8, 51, 296643), 'US')], 'malicious': [('192.122.36.1', datetime.datetime(2025, 5, 31, 17, 8, 55, 603663), 'CN'), ('192.122.36.1', datetime.datetime(2025, 5, 31, 17, 8, 57, 573380), 'CN'), ('192.122.36.1', datetime.datetime(2025, 5, 31, 17, 8, 58, 911744), 'CN'), ('192.122.36.1', datetime.datetime(2025, 5, 31, 17, 8, 59, 491493), 'CN'), ('192.122.36.1', datetime.datetime(2025, 5, 31, 17, 9, 0, 943480), 'CN'), ('192.122.36.1', datetime.datetime(2025, 5, 31, 17, 9, 2, 92104), 'CN')], 'flagged_user': [('192.168.13.69', datetime.datetime(2025, 5, 31, 17, 9, 55, 188769), 'US'), ('192.168.13.69', datetime.datetime(2025, 5, 31, 17, 9, 56, 600254), 'US'), ('192.168.13.69', datetime.datetime(2025, 5, 31, 17, 9, 58, 49720), 'US'), ('192.168.13.69', datetime.datetime(2025, 5, 31, 17, 9, 58, 944161), 'US'), ('192.168.13.69', datetime.datetime(2025, 5, 31, 17, 9, 59, 960779), 'US'), ('192.168.13.69', datetime.datetime(2025, 5, 31, 17, 10, 1, 678104), 'US'), ('192.168.13.69', datetime.datetime(2025, 5, 31, 17, 10, 2, 370432), 'US')], 'geo_user': [('192.168.1.1', datetime.datetime(2025, 5, 31, 17, 10, 7, 792429), 'US'), ('203.0.113.1', datetime.datetime(2025, 5, 31, 17, 10, 9, 752558), 'UK'), ('172.16.1.1', datetime.datetime(2025, 5, 31, 17, 10, 11, 408157), 'CN')]}\n",
      "Session Durations: {'normal_session': {'start': datetime.datetime(2025, 5, 31, 17, 8, 54, 300706), 'end': datetime.datetime(2025, 5, 31, 17, 8, 55, 585204), 'last_active': datetime.datetime(2025, 5, 31, 17, 8, 55, 585204), 'type': 'interactive'}, 'sesh_hijack': {'start': datetime.datetime(2025, 5, 31, 17, 10, 5, 776167), 'end': datetime.datetime(2025, 5, 31, 17, 10, 7, 774682), 'last_active': datetime.datetime(2025, 5, 31, 17, 10, 7, 774682), 'type': 'interactive'}, 'long_session': {'start': datetime.datetime(2025, 5, 30, 16, 10, 17, 79419), 'end': datetime.datetime(2025, 5, 31, 17, 10, 19, 103323), 'last_active': datetime.datetime(2025, 5, 31, 17, 10, 19, 103323), 'type': 'interactive'}}\n"
     ]
    }
   ],
   "source": [
    "visualise_data()\n",
    "print('Failed Logins:', failed_logins)\n",
    "print('Toggle Events:', toggle_events)\n",
    "print('Power History:', [v for _, v in power_history])\n",
    "print('Session Creations:', session_creations)\n",
    "print('Device Access Log:', device_access_log)\n",
    "print('Flagged Users:', flagged_users)\n",
    "print('Flagged IPs:', flagged_ips)\n",
    "print('Login Locations:', login_locations)\n",
    "print('Session Durations:', session_durations)"
   ]
  }
 ],
 "metadata": {
  "kernelspec": {
   "display_name": "Python 3",
   "language": "python",
   "name": "python3"
  },
  "language_info": {
   "codemirror_mode": {
    "name": "ipython",
    "version": 3
   },
   "file_extension": ".py",
   "mimetype": "text/x-python",
   "name": "python",
   "nbconvert_exporter": "python",
   "pygments_lexer": "ipython3",
   "version": "3.12.10"
  }
 },
 "nbformat": 4,
 "nbformat_minor": 5
}
